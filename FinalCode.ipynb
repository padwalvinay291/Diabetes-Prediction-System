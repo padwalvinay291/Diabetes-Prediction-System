{
 "cells": [
  {
   "cell_type": "markdown",
   "metadata": {},
   "source": [
    "# Loading required Libraries"
   ]
  },
  {
   "cell_type": "code",
   "execution_count": 1,
   "metadata": {},
   "outputs": [],
   "source": [
    "import findspark\n",
    "findspark.init()\n",
    "\n",
    "import pyspark # only run after findspark.init()\n",
    "from pyspark.sql import SparkSession\n",
    "from pyspark import SparkFiles\n",
    "\n",
    "import pandas as pd\n",
    "import numpy as np\n",
    "import seaborn as sns\n",
    "import matplotlib.pyplot as plt\n",
    "import pymongo\n",
    "from pymongo import MongoClient\n",
    "from sklearn.model_selection import train_test_split\n",
    "from sklearn.ensemble import RandomForestClassifier\n",
    "from sklearn.metrics import accuracy_score"
   ]
  },
  {
   "cell_type": "markdown",
   "id": "02887781",
   "metadata": {},
   "source": [
    "# Building SparkSession"
   ]
  },
  {
   "cell_type": "code",
   "execution_count": 2,
   "id": "b24fb35a",
   "metadata": {},
   "outputs": [],
   "source": [
    "spark = SparkSession \\\n",
    "    .builder \\\n",
    "    .appName(\"diabetes-disease-prediction\") \\\n",
    "    .config(\"spark.mongodb.input.uri\", \"mongodb://127.0.0.1/test.coll\") \\\n",
    "    .config(\"spark.mongodb.output.uri\", \"mongodb://127.0.0.1/test.coll\") \\\n",
    "    .config('spark.jars.packages', 'org.mongodb.spark:mongo-spark-connector_2.12:3.0.1').getOrCreate()"
   ]
  },
  {
   "cell_type": "markdown",
   "id": "18e6e7ec",
   "metadata": {},
   "source": [
    "# Dataset Fetching"
   ]
  },
  {
   "cell_type": "markdown",
   "id": "429889ea",
   "metadata": {},
   "source": [
    "### First Dataset Fetching"
   ]
  },
  {
   "cell_type": "code",
   "execution_count": 3,
   "id": "7fa6c068",
   "metadata": {},
   "outputs": [
    {
     "name": "stdout",
     "output_type": "stream",
     "text": [
      "+---+---------+------+---+----+---+-----+----+---+---+---+----+----+-----+\n",
      "| ID|No_Pation|Gender|AGE|Urea| Cr|HbA1c|Chol| TG|HDL|LDL|VLDL| BMI|CLASS|\n",
      "+---+---------+------+---+----+---+-----+----+---+---+---+----+----+-----+\n",
      "|502|    17975|     F| 50| 4.7| 46|  4.9| 4.2|0.9|2.4|1.4| 0.5|24.0|    N|\n",
      "|735|    34221|     M| 26| 4.5| 62|  4.9| 3.7|1.4|1.1|2.1| 0.6|23.0|    N|\n",
      "|420|    47975|     F| 50| 4.7| 46|  4.9| 4.2|0.9|2.4|1.4| 0.5|24.0|    N|\n",
      "|680|    87656|     F| 50| 4.7| 46|  4.9| 4.2|0.9|2.4|1.4| 0.5|24.0|    N|\n",
      "|504|    34223|     M| 33| 7.1| 46|  4.9| 4.9|1.0|0.8|2.0| 0.4|21.0|    N|\n",
      "|634|    34224|     F| 45| 2.3| 24|  4.0| 2.9|1.0|1.0|1.5| 0.4|21.0|    N|\n",
      "|721|    34225|     F| 50| 2.0| 50|  4.0| 3.6|1.3|0.9|2.1| 0.6|24.0|    N|\n",
      "|421|    34227|     M| 48| 4.7| 47|  4.0| 2.9|0.8|0.9|1.6| 0.4|24.0|    N|\n",
      "|670|    34229|     M| 43| 2.6| 67|  4.0| 3.8|0.9|2.4|3.7| 1.0|21.0|    N|\n",
      "|759|    34230|     F| 32| 3.6| 28|  4.0| 3.8|2.0|2.4|3.8| 1.0|24.0|    N|\n",
      "|636|    34231|     F| 31| 4.4| 55|  4.2| 3.6|0.7|1.7|1.6| 0.3|23.0|    N|\n",
      "|788|    34232|     F| 33| 3.3| 53|  4.0| 4.0|1.1|0.9|2.7| 1.0|21.0|    N|\n",
      "| 82|    46815|     F| 30| 3.0| 42|  4.1| 4.9|1.3|1.2|3.2| 0.5|22.0|    N|\n",
      "|132|    34234|     F| 45| 4.6| 54|  5.1| 4.2|1.7|1.2|2.2| 0.8|23.0|    N|\n",
      "|402|    34235|     F| 50| 3.5| 39|  4.0| 4.0|1.5|1.2|2.2| 0.7|24.0|    N|\n",
      "|566|    34236|     M| 50| 5.5| 74|  5.0| 3.6|1.1|1.0|2.1| 0.5|21.0|    N|\n",
      "|596|    34237|     F| 50| 5.9| 53|  5.4| 5.3|0.8|1.1|4.1| 0.3|21.0|    N|\n",
      "|676|    87654|     F| 30| 3.0| 42|  4.1| 4.9|1.3|1.2|3.2| 0.5|22.0|    N|\n",
      "|729|    34238|     F| 49| 2.2| 28|  4.1| 5.0|1.3|1.2|3.3| 0.6|24.0|    N|\n",
      "|742|    34239|     F| 49| 3.8| 55|  4.0| 4.4|0.9|1.0|1.3| 0.4|23.0|    N|\n",
      "+---+---------+------+---+----+---+-----+----+---+---+---+----+----+-----+\n",
      "only showing top 20 rows\n",
      "\n"
     ]
    }
   ],
   "source": [
    "url= \"https://raw.githubusercontent.com/padwalvinay291/Diabetes-Dataset/main/Dataset%20of%20Diabetes.csv\"\n",
    "spark.sparkContext.addFile(url)\n",
    "SparkFiles.get(\"Dataset of Diabetes.csv\")\n",
    "df1=spark.read.csv(\"file:///\"+SparkFiles.get(\"Dataset of Diabetes.csv\"), header=True, inferSchema= True)\n",
    "df1.show()"
   ]
  },
  {
   "cell_type": "markdown",
   "id": "c432f9bc",
   "metadata": {},
   "source": [
    "### Schema of the Dataframe :"
   ]
  },
  {
   "cell_type": "code",
   "execution_count": 4,
   "id": "2573082a",
   "metadata": {},
   "outputs": [
    {
     "name": "stdout",
     "output_type": "stream",
     "text": [
      "root\n",
      " |-- ID: integer (nullable = true)\n",
      " |-- No_Pation: integer (nullable = true)\n",
      " |-- Gender: string (nullable = true)\n",
      " |-- AGE: integer (nullable = true)\n",
      " |-- Urea: double (nullable = true)\n",
      " |-- Cr: integer (nullable = true)\n",
      " |-- HbA1c: double (nullable = true)\n",
      " |-- Chol: double (nullable = true)\n",
      " |-- TG: double (nullable = true)\n",
      " |-- HDL: double (nullable = true)\n",
      " |-- LDL: double (nullable = true)\n",
      " |-- VLDL: double (nullable = true)\n",
      " |-- BMI: double (nullable = true)\n",
      " |-- CLASS: string (nullable = true)\n",
      "\n"
     ]
    }
   ],
   "source": [
    "df1.printSchema()"
   ]
  },
  {
   "cell_type": "markdown",
   "id": "30527b39",
   "metadata": {},
   "source": [
    "### Second Dataset fetching"
   ]
  },
  {
   "cell_type": "code",
   "execution_count": 5,
   "id": "6a1b67eb",
   "metadata": {},
   "outputs": [
    {
     "name": "stdout",
     "output_type": "stream",
     "text": [
      "+--------------+-----------+-------+--------+--------------+---+------+------+------+----+-----------+------------+-----+---+---------------+-----------+----+----+\n",
      "|Patient number|Cholesterol|Glucose|HDL Chol|Chol/HDL ratio|Age|Gender|Height|Weight| BMI|Systolic BP|Diastolic BP|waist|hip|Waist/hip ratio|   Diabetes|_c16|_c17|\n",
      "+--------------+-----------+-------+--------+--------------+---+------+------+------+----+-----------+------------+-----+---+---------------+-----------+----+----+\n",
      "|             1|        193|     77|      49|           3.9| 19|female|    61|   119|22.5|        118|          70|   32| 38|           0.84|No diabetes|   6|   6|\n",
      "|             2|        146|     79|      41|           3.6| 19|female|    60|   135|26.4|        108|          58|   33| 40|           0.83|No diabetes|null|null|\n",
      "|             3|        217|     75|      54|           4.0| 20|female|    67|   187|29.3|        110|          72|   40| 45|           0.89|No diabetes|null|null|\n",
      "|             4|        226|     97|      70|           3.2| 20|female|    64|   114|19.6|        122|          64|   31| 39|           0.79|No diabetes|null|null|\n",
      "|             5|        164|     91|      67|           2.4| 20|female|    70|   141|20.2|        122|          86|   32| 39|           0.82|No diabetes|null|null|\n",
      "|             6|        170|     69|      64|           2.7| 20|female|    64|   161|27.6|        108|          70|   37| 40|           0.93|No diabetes|null|null|\n",
      "|             7|        149|     77|      49|           3.0| 20|female|    62|   115|21.0|        105|          82|   31| 37|           0.84|No diabetes|null|null|\n",
      "|             8|        164|     71|      63|           2.6| 20|  male|    72|   145|19.7|        108|          78|   29| 36|           0.81|No diabetes|null|null|\n",
      "|             9|        230|    112|      64|           3.6| 20|  male|    67|   159|24.9|        100|          90|   31| 39|           0.79|No diabetes|null|null|\n",
      "|            10|        179|    105|      60|           3.0| 20|female|    58|   170|35.5|        140|         100|   34| 46|           0.74|No diabetes|null|null|\n",
      "|            11|        174|    105|     117|           1.5| 20|  male|    70|   187|26.8|        132|          86|   37| 41|            0.9|No diabetes|null|null|\n",
      "|            12|        193|    106|      63|           3.1| 20|female|    68|   274|41.7|        165|         110|   49| 58|           0.84|No diabetes|null|null|\n",
      "|            13|        132|     99|      34|           3.9| 21|female|    65|   169|28.1|        112|          62|   39| 43|           0.91|No diabetes|null|null|\n",
      "|            14|        203|     84|      75|           2.7| 21|female|    63|   142|25.2|        125|          85|   28| 39|           0.72|No diabetes|null|null|\n",
      "|            15|        135|     88|      47|           2.9| 21|  male|    69|   155|22.9|        110|          68|   31| 39|           0.79|No diabetes|null|null|\n",
      "|            16|        187|     84|      64|           2.9| 21|female|    63|   158|28.0|        138|          88|   39| 43|           0.91|No diabetes|null|null|\n",
      "|            17|        244|     89|      92|           2.7| 21|  male|    71|   163|22.7|        116|          76|   34| 39|           0.87|No diabetes|null|null|\n",
      "|            18|        193|     75|      49|           3.9| 21|female|    61|   220|41.6|        130|          82|   40| 52|           0.77|No diabetes|null|null|\n",
      "|            19|        165|     76|      46|           3.6| 22|female|    63|   114|20.2|        112|          78|   28| 35|            0.8|No diabetes|null|null|\n",
      "|            20|        172|     70|      36|           4.8| 22|female|    64|   148|25.4|         90|          48|   35| 38|           0.92|No diabetes|null|null|\n",
      "+--------------+-----------+-------+--------+--------------+---+------+------+------+----+-----------+------------+-----+---+---------------+-----------+----+----+\n",
      "only showing top 20 rows\n",
      "\n"
     ]
    }
   ],
   "source": [
    "url= \"https://raw.githubusercontent.com/padwalvinay291/Diabetes-Dataset/main/Diabetes2.csv\"\n",
    "spark.sparkContext.addFile(url)\n",
    "SparkFiles.get(\"Diabetes2.csv\")\n",
    "df2=spark.read.csv(\"file:///\"+SparkFiles.get(\"Diabetes2.csv\"), header=True, inferSchema= True)\n",
    "df2.show()"
   ]
  },
  {
   "cell_type": "markdown",
   "id": "ed8c3708",
   "metadata": {},
   "source": [
    "### Schema of the Dataframe :"
   ]
  },
  {
   "cell_type": "code",
   "execution_count": 6,
   "id": "757257f6",
   "metadata": {},
   "outputs": [
    {
     "name": "stdout",
     "output_type": "stream",
     "text": [
      "root\n",
      " |-- Patient number: integer (nullable = true)\n",
      " |-- Cholesterol: integer (nullable = true)\n",
      " |-- Glucose: integer (nullable = true)\n",
      " |-- HDL Chol: integer (nullable = true)\n",
      " |-- Chol/HDL ratio: double (nullable = true)\n",
      " |-- Age: integer (nullable = true)\n",
      " |-- Gender: string (nullable = true)\n",
      " |-- Height: integer (nullable = true)\n",
      " |-- Weight: integer (nullable = true)\n",
      " |-- BMI: double (nullable = true)\n",
      " |-- Systolic BP: integer (nullable = true)\n",
      " |-- Diastolic BP: integer (nullable = true)\n",
      " |-- waist: integer (nullable = true)\n",
      " |-- hip: integer (nullable = true)\n",
      " |-- Waist/hip ratio: double (nullable = true)\n",
      " |-- Diabetes: string (nullable = true)\n",
      " |-- _c16: integer (nullable = true)\n",
      " |-- _c17: integer (nullable = true)\n",
      "\n"
     ]
    }
   ],
   "source": [
    "df2.printSchema()"
   ]
  },
  {
   "cell_type": "code",
   "execution_count": 7,
   "id": "fe3090cd",
   "metadata": {},
   "outputs": [],
   "source": [
    "import pyspark.sql.functions as func"
   ]
  },
  {
   "cell_type": "code",
   "execution_count": 8,
   "id": "9bde76f5",
   "metadata": {},
   "outputs": [
    {
     "name": "stdout",
     "output_type": "stream",
     "text": [
      "+---+---------+------+---+----+---+-----+----+---+---+---+----+----+--------+-----------+-------+\n",
      "| ID|No_Pation|Gender|Age|Urea| Cr|HbA1c|Chol| TG|HDL|LDL|VLDL| BMI|Diabetes|Cholesterol|HDLChol|\n",
      "+---+---------+------+---+----+---+-----+----+---+---+---+----+----+--------+-----------+-------+\n",
      "|502|    17975|     F| 50| 4.7| 46|  4.9| 4.2|0.9|2.4|1.4| 0.5|24.0|       N|         76|     43|\n",
      "|735|    34221|     M| 26| 4.5| 62|  4.9| 3.7|1.4|1.1|2.1| 0.6|23.0|       N|         67|     20|\n",
      "|420|    47975|     F| 50| 4.7| 46|  4.9| 4.2|0.9|2.4|1.4| 0.5|24.0|       N|         76|     43|\n",
      "|680|    87656|     F| 50| 4.7| 46|  4.9| 4.2|0.9|2.4|1.4| 0.5|24.0|       N|         76|     43|\n",
      "|504|    34223|     M| 33| 7.1| 46|  4.9| 4.9|1.0|0.8|2.0| 0.4|21.0|       N|         88|     14|\n",
      "|634|    34224|     F| 45| 2.3| 24|  4.0| 2.9|1.0|1.0|1.5| 0.4|21.0|       N|         52|     18|\n",
      "|721|    34225|     F| 50| 2.0| 50|  4.0| 3.6|1.3|0.9|2.1| 0.6|24.0|       N|         65|     16|\n",
      "|421|    34227|     M| 48| 4.7| 47|  4.0| 2.9|0.8|0.9|1.6| 0.4|24.0|       N|         52|     16|\n",
      "|670|    34229|     M| 43| 2.6| 67|  4.0| 3.8|0.9|2.4|3.7| 1.0|21.0|       N|         68|     43|\n",
      "|759|    34230|     F| 32| 3.6| 28|  4.0| 3.8|2.0|2.4|3.8| 1.0|24.0|       N|         68|     43|\n",
      "|636|    34231|     F| 31| 4.4| 55|  4.2| 3.6|0.7|1.7|1.6| 0.3|23.0|       N|         65|     31|\n",
      "|788|    34232|     F| 33| 3.3| 53|  4.0| 4.0|1.1|0.9|2.7| 1.0|21.0|       N|         72|     16|\n",
      "| 82|    46815|     F| 30| 3.0| 42|  4.1| 4.9|1.3|1.2|3.2| 0.5|22.0|       N|         88|     22|\n",
      "|132|    34234|     F| 45| 4.6| 54|  5.1| 4.2|1.7|1.2|2.2| 0.8|23.0|       N|         76|     22|\n",
      "|402|    34235|     F| 50| 3.5| 39|  4.0| 4.0|1.5|1.2|2.2| 0.7|24.0|       N|         72|     22|\n",
      "|566|    34236|     M| 50| 5.5| 74|  5.0| 3.6|1.1|1.0|2.1| 0.5|21.0|       N|         65|     18|\n",
      "|596|    34237|     F| 50| 5.9| 53|  5.4| 5.3|0.8|1.1|4.1| 0.3|21.0|       N|         95|     20|\n",
      "|676|    87654|     F| 30| 3.0| 42|  4.1| 4.9|1.3|1.2|3.2| 0.5|22.0|       N|         88|     22|\n",
      "|729|    34238|     F| 49| 2.2| 28|  4.1| 5.0|1.3|1.2|3.3| 0.6|24.0|       N|         90|     22|\n",
      "|742|    34239|     F| 49| 3.8| 55|  4.0| 4.4|0.9|1.0|1.3| 0.4|23.0|       N|         79|     18|\n",
      "+---+---------+------+---+----+---+-----+----+---+---+---+----+----+--------+-----------+-------+\n",
      "only showing top 20 rows\n",
      "\n"
     ]
    }
   ],
   "source": [
    "dnew=df1.withColumn(\"Cholesterol\",  func.round(df1.Chol*18,0).cast('integer')).withColumnRenamed(\"AGE\",\"Age\").withColumnRenamed(\"CLASS\",\"Diabetes\").withColumn(\"HDLChol\",  func.round(df1.HDL*18,0).cast('integer'))\n",
    "dnew.show()"
   ]
  },
  {
   "cell_type": "code",
   "execution_count": 9,
   "id": "211b7da9",
   "metadata": {},
   "outputs": [
    {
     "name": "stdout",
     "output_type": "stream",
     "text": [
      "+---+---------+------+---+----+---+-----+----+---+---+---+----+----+--------+-----------+-------+--------------+-------+\n",
      "| ID|No_Pation|Gender|Age|Urea| Cr|HbA1c|Chol| TG|HDL|LDL|VLDL| BMI|Diabetes|Cholesterol|HDLChol|Chol/HDL ratio|Glucose|\n",
      "+---+---------+------+---+----+---+-----+----+---+---+---+----+----+--------+-----------+-------+--------------+-------+\n",
      "|502|    17975|     F| 50| 4.7| 46|  4.9| 4.2|0.9|2.4|1.4| 0.5|24.0|       N|         76|     43|           1.8|     81|\n",
      "|735|    34221|     M| 26| 4.5| 62|  4.9| 3.7|1.4|1.1|2.1| 0.6|23.0|       N|         67|     20|           3.4|     35|\n",
      "|420|    47975|     F| 50| 4.7| 46|  4.9| 4.2|0.9|2.4|1.4| 0.5|24.0|       N|         76|     43|           1.8|     81|\n",
      "|680|    87656|     F| 50| 4.7| 46|  4.9| 4.2|0.9|2.4|1.4| 0.5|24.0|       N|         76|     43|           1.8|     81|\n",
      "|504|    34223|     M| 33| 7.1| 46|  4.9| 4.9|1.0|0.8|2.0| 0.4|21.0|       N|         88|     14|           6.3|     23|\n",
      "|634|    34224|     F| 45| 2.3| 24|  4.0| 2.9|1.0|1.0|1.5| 0.4|21.0|       N|         52|     18|           2.9|     31|\n",
      "|721|    34225|     F| 50| 2.0| 50|  4.0| 3.6|1.3|0.9|2.1| 0.6|24.0|       N|         65|     16|           4.1|     27|\n",
      "|421|    34227|     M| 48| 4.7| 47|  4.0| 2.9|0.8|0.9|1.6| 0.4|24.0|       N|         52|     16|           3.3|     27|\n",
      "|670|    34229|     M| 43| 2.6| 67|  4.0| 3.8|0.9|2.4|3.7| 1.0|21.0|       N|         68|     43|           1.6|     81|\n",
      "|759|    34230|     F| 32| 3.6| 28|  4.0| 3.8|2.0|2.4|3.8| 1.0|24.0|       N|         68|     43|           1.6|     81|\n",
      "|636|    34231|     F| 31| 4.4| 55|  4.2| 3.6|0.7|1.7|1.6| 0.3|23.0|       N|         65|     31|           2.1|     57|\n",
      "|788|    34232|     F| 33| 3.3| 53|  4.0| 4.0|1.1|0.9|2.7| 1.0|21.0|       N|         72|     16|           4.5|     27|\n",
      "| 82|    46815|     F| 30| 3.0| 42|  4.1| 4.9|1.3|1.2|3.2| 0.5|22.0|       N|         88|     22|           4.0|     39|\n",
      "|132|    34234|     F| 45| 4.6| 54|  5.1| 4.2|1.7|1.2|2.2| 0.8|23.0|       N|         76|     22|           3.5|     39|\n",
      "|402|    34235|     F| 50| 3.5| 39|  4.0| 4.0|1.5|1.2|2.2| 0.7|24.0|       N|         72|     22|           3.3|     39|\n",
      "|566|    34236|     M| 50| 5.5| 74|  5.0| 3.6|1.1|1.0|2.1| 0.5|21.0|       N|         65|     18|           3.6|     31|\n",
      "|596|    34237|     F| 50| 5.9| 53|  5.4| 5.3|0.8|1.1|4.1| 0.3|21.0|       N|         95|     20|           4.8|     35|\n",
      "|676|    87654|     F| 30| 3.0| 42|  4.1| 4.9|1.3|1.2|3.2| 0.5|22.0|       N|         88|     22|           4.0|     39|\n",
      "|729|    34238|     F| 49| 2.2| 28|  4.1| 5.0|1.3|1.2|3.3| 0.6|24.0|       N|         90|     22|           4.1|     39|\n",
      "|742|    34239|     F| 49| 3.8| 55|  4.0| 4.4|0.9|1.0|1.3| 0.4|23.0|       N|         79|     18|           4.4|     31|\n",
      "+---+---------+------+---+----+---+-----+----+---+---+---+----+----+--------+-----------+-------+--------------+-------+\n",
      "only showing top 20 rows\n",
      "\n"
     ]
    }
   ],
   "source": [
    "d1new=dnew.withColumnRenamed(\"DOB\",\"DateOfBirth\").withColumn(\"Chol/HDL ratio\",func.round((dnew.Cholesterol/dnew.HDLChol),1)).withColumn(\"Glucose\", func.round(((dnew.HDLChol*1.98)-4.29),0).cast('integer'))\n",
    "d1new.show()"
   ]
  },
  {
   "cell_type": "code",
   "execution_count": 10,
   "id": "0d96f506",
   "metadata": {},
   "outputs": [
    {
     "name": "stdout",
     "output_type": "stream",
     "text": [
      "+------+---+----+--------+-----------+-------+--------------+-------+\n",
      "|Gender|Age| BMI|Diabetes|Cholesterol|HDLChol|Chol/HDL ratio|Glucose|\n",
      "+------+---+----+--------+-----------+-------+--------------+-------+\n",
      "|     F| 50|24.0|       N|         76|     43|           1.8|     81|\n",
      "|     M| 26|23.0|       N|         67|     20|           3.4|     35|\n",
      "|     F| 50|24.0|       N|         76|     43|           1.8|     81|\n",
      "|     F| 50|24.0|       N|         76|     43|           1.8|     81|\n",
      "|     M| 33|21.0|       N|         88|     14|           6.3|     23|\n",
      "|     F| 45|21.0|       N|         52|     18|           2.9|     31|\n",
      "|     F| 50|24.0|       N|         65|     16|           4.1|     27|\n",
      "|     M| 48|24.0|       N|         52|     16|           3.3|     27|\n",
      "|     M| 43|21.0|       N|         68|     43|           1.6|     81|\n",
      "|     F| 32|24.0|       N|         68|     43|           1.6|     81|\n",
      "|     F| 31|23.0|       N|         65|     31|           2.1|     57|\n",
      "|     F| 33|21.0|       N|         72|     16|           4.5|     27|\n",
      "|     F| 30|22.0|       N|         88|     22|           4.0|     39|\n",
      "|     F| 45|23.0|       N|         76|     22|           3.5|     39|\n",
      "|     F| 50|24.0|       N|         72|     22|           3.3|     39|\n",
      "|     M| 50|21.0|       N|         65|     18|           3.6|     31|\n",
      "|     F| 50|21.0|       N|         95|     20|           4.8|     35|\n",
      "|     F| 30|22.0|       N|         88|     22|           4.0|     39|\n",
      "|     F| 49|24.0|       N|         90|     22|           4.1|     39|\n",
      "|     F| 49|23.0|       N|         79|     18|           4.4|     31|\n",
      "+------+---+----+--------+-----------+-------+--------------+-------+\n",
      "only showing top 20 rows\n",
      "\n"
     ]
    }
   ],
   "source": [
    "d1new=d1new.drop(\"ID\",\"No_Pation\",\"Urea\",\"Cr\",\"HbA1c\",\"Chol\",\"TG\",\"HDL\",\"LDL\",\"VLDL\")\n",
    "d1new.show()"
   ]
  },
  {
   "cell_type": "code",
   "execution_count": 11,
   "id": "ad3d731c",
   "metadata": {},
   "outputs": [],
   "source": [
    "from pyspark.sql.functions import when\n",
    "\n",
    "d2new=df2.withColumnRenamed(\"HDL Chol\",\"HDLChol\").withColumn(\"Gender\", when(df2.Gender ==\"male\",\"M\") \\\n",
    "      .when(df2.Gender == \"female\",\"F\") \\\n",
    "      .otherwise(df2.Gender)) \\\n",
    ".withColumn(\"Diabetes\", when(df2.Diabetes ==\"No diabetes\",\"N\") \\\n",
    "      .when(df2.Diabetes == \"Diabetes\",\"Y\") \\\n",
    "      .otherwise(df2.Diabetes))"
   ]
  },
  {
   "cell_type": "code",
   "execution_count": 12,
   "id": "cf6c3ca9",
   "metadata": {},
   "outputs": [
    {
     "name": "stdout",
     "output_type": "stream",
     "text": [
      "+-----------+-------+-------+--------------+---+------+----+--------+\n",
      "|Cholesterol|Glucose|HDLChol|Chol/HDL ratio|Age|Gender| BMI|Diabetes|\n",
      "+-----------+-------+-------+--------------+---+------+----+--------+\n",
      "|        193|     77|     49|           3.9| 19|     F|22.5|       N|\n",
      "|        146|     79|     41|           3.6| 19|     F|26.4|       N|\n",
      "|        217|     75|     54|           4.0| 20|     F|29.3|       N|\n",
      "|        226|     97|     70|           3.2| 20|     F|19.6|       N|\n",
      "|        164|     91|     67|           2.4| 20|     F|20.2|       N|\n",
      "|        170|     69|     64|           2.7| 20|     F|27.6|       N|\n",
      "|        149|     77|     49|           3.0| 20|     F|21.0|       N|\n",
      "|        164|     71|     63|           2.6| 20|     M|19.7|       N|\n",
      "|        230|    112|     64|           3.6| 20|     M|24.9|       N|\n",
      "|        179|    105|     60|           3.0| 20|     F|35.5|       N|\n",
      "|        174|    105|    117|           1.5| 20|     M|26.8|       N|\n",
      "|        193|    106|     63|           3.1| 20|     F|41.7|       N|\n",
      "|        132|     99|     34|           3.9| 21|     F|28.1|       N|\n",
      "|        203|     84|     75|           2.7| 21|     F|25.2|       N|\n",
      "|        135|     88|     47|           2.9| 21|     M|22.9|       N|\n",
      "|        187|     84|     64|           2.9| 21|     F|28.0|       N|\n",
      "|        244|     89|     92|           2.7| 21|     M|22.7|       N|\n",
      "|        193|     75|     49|           3.9| 21|     F|41.6|       N|\n",
      "|        165|     76|     46|           3.6| 22|     F|20.2|       N|\n",
      "|        172|     70|     36|           4.8| 22|     F|25.4|       N|\n",
      "+-----------+-------+-------+--------------+---+------+----+--------+\n",
      "only showing top 20 rows\n",
      "\n"
     ]
    }
   ],
   "source": [
    "d2new=d2new.drop(\"Patient number\",\"Height\",\"Weight\",\"Systolic BP\",\"Diastolic BP\",\"waist\",\"hip\",\"Waist/hip ratio\",\"_c16\",\"_c17\")\n",
    "d2new.show()"
   ]
  },
  {
   "cell_type": "code",
   "execution_count": 13,
   "id": "5deee562",
   "metadata": {},
   "outputs": [
    {
     "name": "stdout",
     "output_type": "stream",
     "text": [
      "root\n",
      " |-- Gender: string (nullable = true)\n",
      " |-- Age: integer (nullable = true)\n",
      " |-- BMI: double (nullable = true)\n",
      " |-- Diabetes: string (nullable = true)\n",
      " |-- Cholesterol: integer (nullable = true)\n",
      " |-- HDLChol: integer (nullable = true)\n",
      " |-- Chol/HDL ratio: double (nullable = true)\n",
      " |-- Glucose: integer (nullable = true)\n",
      "\n"
     ]
    }
   ],
   "source": [
    "d1new.printSchema()"
   ]
  },
  {
   "cell_type": "code",
   "execution_count": 14,
   "id": "f78014c0",
   "metadata": {},
   "outputs": [
    {
     "name": "stdout",
     "output_type": "stream",
     "text": [
      "root\n",
      " |-- Cholesterol: integer (nullable = true)\n",
      " |-- Glucose: integer (nullable = true)\n",
      " |-- HDLChol: integer (nullable = true)\n",
      " |-- Chol/HDL ratio: double (nullable = true)\n",
      " |-- Age: integer (nullable = true)\n",
      " |-- Gender: string (nullable = true)\n",
      " |-- BMI: double (nullable = true)\n",
      " |-- Diabetes: string (nullable = true)\n",
      "\n"
     ]
    }
   ],
   "source": [
    "d2new.printSchema()"
   ]
  },
  {
   "cell_type": "code",
   "execution_count": 15,
   "id": "c92c8413",
   "metadata": {},
   "outputs": [],
   "source": [
    "newdata=d1new.unionByName(d2new)"
   ]
  },
  {
   "cell_type": "code",
   "execution_count": 16,
   "id": "e2c4e5ae",
   "metadata": {},
   "outputs": [
    {
     "name": "stdout",
     "output_type": "stream",
     "text": [
      "+------+---+----+--------+-----------+-------+--------------+-------+\n",
      "|Gender|Age| BMI|Diabetes|Cholesterol|HDLChol|Chol/HDL ratio|Glucose|\n",
      "+------+---+----+--------+-----------+-------+--------------+-------+\n",
      "|     F| 50|24.0|       N|         76|     43|           1.8|     81|\n",
      "|     M| 26|23.0|       N|         67|     20|           3.4|     35|\n",
      "|     F| 50|24.0|       N|         76|     43|           1.8|     81|\n",
      "|     F| 50|24.0|       N|         76|     43|           1.8|     81|\n",
      "|     M| 33|21.0|       N|         88|     14|           6.3|     23|\n",
      "|     F| 45|21.0|       N|         52|     18|           2.9|     31|\n",
      "|     F| 50|24.0|       N|         65|     16|           4.1|     27|\n",
      "|     M| 48|24.0|       N|         52|     16|           3.3|     27|\n",
      "|     M| 43|21.0|       N|         68|     43|           1.6|     81|\n",
      "|     F| 32|24.0|       N|         68|     43|           1.6|     81|\n",
      "|     F| 31|23.0|       N|         65|     31|           2.1|     57|\n",
      "|     F| 33|21.0|       N|         72|     16|           4.5|     27|\n",
      "|     F| 30|22.0|       N|         88|     22|           4.0|     39|\n",
      "|     F| 45|23.0|       N|         76|     22|           3.5|     39|\n",
      "|     F| 50|24.0|       N|         72|     22|           3.3|     39|\n",
      "|     M| 50|21.0|       N|         65|     18|           3.6|     31|\n",
      "|     F| 50|21.0|       N|         95|     20|           4.8|     35|\n",
      "|     F| 30|22.0|       N|         88|     22|           4.0|     39|\n",
      "|     F| 49|24.0|       N|         90|     22|           4.1|     39|\n",
      "|     F| 49|23.0|       N|         79|     18|           4.4|     31|\n",
      "+------+---+----+--------+-----------+-------+--------------+-------+\n",
      "only showing top 20 rows\n",
      "\n"
     ]
    },
    {
     "data": {
      "text/plain": [
       "1390"
      ]
     },
     "execution_count": 16,
     "metadata": {},
     "output_type": "execute_result"
    }
   ],
   "source": [
    "newdata.show()\n",
    "newdata.count()"
   ]
  },
  {
   "cell_type": "code",
   "execution_count": 17,
   "id": "04ab1f8c",
   "metadata": {},
   "outputs": [
    {
     "data": {
      "text/plain": [
       "[Row(Diabetes='Y'), Row(Diabetes='N'), Row(Diabetes='P')]"
      ]
     },
     "execution_count": 17,
     "metadata": {},
     "output_type": "execute_result"
    }
   ],
   "source": [
    "newdata.select('Diabetes').distinct().collect()\n"
   ]
  },
  {
   "cell_type": "code",
   "execution_count": 18,
   "id": "38f1e634",
   "metadata": {},
   "outputs": [
    {
     "data": {
      "text/plain": [
       "[Row(Gender='F'), Row(Gender='M')]"
      ]
     },
     "execution_count": 18,
     "metadata": {},
     "output_type": "execute_result"
    }
   ],
   "source": [
    "newdata.select('Gender').distinct().collect()"
   ]
  },
  {
   "cell_type": "code",
   "execution_count": 19,
   "id": "6164fb56",
   "metadata": {},
   "outputs": [
    {
     "name": "stdout",
     "output_type": "stream",
     "text": [
      "+------+---+----+--------+-----------+-------+--------------+-------+\n",
      "|Gender|Age| BMI|Diabetes|Cholesterol|HDLChol|Chol/HDL ratio|Glucose|\n",
      "+------+---+----+--------+-----------+-------+--------------+-------+\n",
      "|     F| 50|24.0|       N|         76|     43|           1.8|     81|\n",
      "|     M| 26|23.0|       N|         67|     20|           3.4|     35|\n",
      "|     F| 50|24.0|       N|         76|     43|           1.8|     81|\n",
      "|     F| 50|24.0|       N|         76|     43|           1.8|     81|\n",
      "|     M| 33|21.0|       N|         88|     14|           6.3|     23|\n",
      "|     F| 45|21.0|       N|         52|     18|           2.9|     31|\n",
      "|     F| 50|24.0|       N|         65|     16|           4.1|     27|\n",
      "|     M| 48|24.0|       N|         52|     16|           3.3|     27|\n",
      "|     M| 43|21.0|       N|         68|     43|           1.6|     81|\n",
      "|     F| 32|24.0|       N|         68|     43|           1.6|     81|\n",
      "|     F| 31|23.0|       N|         65|     31|           2.1|     57|\n",
      "|     F| 33|21.0|       N|         72|     16|           4.5|     27|\n",
      "|     F| 30|22.0|       N|         88|     22|           4.0|     39|\n",
      "|     F| 45|23.0|       N|         76|     22|           3.5|     39|\n",
      "|     F| 50|24.0|       N|         72|     22|           3.3|     39|\n",
      "|     M| 50|21.0|       N|         65|     18|           3.6|     31|\n",
      "|     F| 50|21.0|       N|         95|     20|           4.8|     35|\n",
      "|     F| 30|22.0|       N|         88|     22|           4.0|     39|\n",
      "|     F| 49|24.0|       N|         90|     22|           4.1|     39|\n",
      "|     F| 49|23.0|       N|         79|     18|           4.4|     31|\n",
      "+------+---+----+--------+-----------+-------+--------------+-------+\n",
      "only showing top 20 rows\n",
      "\n"
     ]
    }
   ],
   "source": [
    "newdata=newdata.where(newdata.Diabetes != 'P')\n",
    "newdata.show()"
   ]
  },
  {
   "cell_type": "code",
   "execution_count": 20,
   "id": "b0bd7658",
   "metadata": {},
   "outputs": [
    {
     "data": {
      "text/plain": [
       "[Row(Diabetes='Y'), Row(Diabetes='N')]"
      ]
     },
     "execution_count": 20,
     "metadata": {},
     "output_type": "execute_result"
    }
   ],
   "source": [
    "newdata.select('Diabetes').distinct().collect()"
   ]
  },
  {
   "cell_type": "markdown",
   "metadata": {},
   "source": [
    "# Dumping the Data into MongoDB"
   ]
  },
  {
   "cell_type": "code",
   "execution_count": 21,
   "id": "57a563a9",
   "metadata": {},
   "outputs": [],
   "source": [
    "newdata.write.format(\"mongo\").mode(\"overwrite\").option(\"database\",\n",
    "\"project\").option(\"collection\", \"diabetes\").save()"
   ]
  },
  {
   "cell_type": "markdown",
   "id": "fb49978d",
   "metadata": {},
   "source": [
    "# Reading the Data from MongoDB"
   ]
  },
  {
   "cell_type": "code",
   "execution_count": 22,
   "id": "f2ca191d",
   "metadata": {},
   "outputs": [],
   "source": [
    "import pymongo\n",
    "client = pymongo.MongoClient(\"mongodb://localhost:27017/\")\n",
    " \n",
    "# Database Name\n",
    "db = client[\"project\"]\n",
    " \n",
    "# Collection Name\n",
    "diabetes=db['diabetes']\n",
    "\n",
    "data = pd.DataFrame(list(diabetes.find({},{'_id': 0})))"
   ]
  },
  {
   "cell_type": "code",
   "execution_count": 23,
   "id": "dcae6dfd",
   "metadata": {},
   "outputs": [
    {
     "data": {
      "text/html": [
       "<div>\n",
       "<style scoped>\n",
       "    .dataframe tbody tr th:only-of-type {\n",
       "        vertical-align: middle;\n",
       "    }\n",
       "\n",
       "    .dataframe tbody tr th {\n",
       "        vertical-align: top;\n",
       "    }\n",
       "\n",
       "    .dataframe thead th {\n",
       "        text-align: right;\n",
       "    }\n",
       "</style>\n",
       "<table border=\"1\" class=\"dataframe\">\n",
       "  <thead>\n",
       "    <tr style=\"text-align: right;\">\n",
       "      <th></th>\n",
       "      <th>Gender</th>\n",
       "      <th>Age</th>\n",
       "      <th>BMI</th>\n",
       "      <th>Diabetes</th>\n",
       "      <th>Cholesterol</th>\n",
       "      <th>HDLChol</th>\n",
       "      <th>Chol/HDL ratio</th>\n",
       "      <th>Glucose</th>\n",
       "    </tr>\n",
       "  </thead>\n",
       "  <tbody>\n",
       "    <tr>\n",
       "      <th>0</th>\n",
       "      <td>F</td>\n",
       "      <td>19</td>\n",
       "      <td>22.5</td>\n",
       "      <td>N</td>\n",
       "      <td>193</td>\n",
       "      <td>49</td>\n",
       "      <td>3.9</td>\n",
       "      <td>77</td>\n",
       "    </tr>\n",
       "    <tr>\n",
       "      <th>1</th>\n",
       "      <td>F</td>\n",
       "      <td>19</td>\n",
       "      <td>26.4</td>\n",
       "      <td>N</td>\n",
       "      <td>146</td>\n",
       "      <td>41</td>\n",
       "      <td>3.6</td>\n",
       "      <td>79</td>\n",
       "    </tr>\n",
       "    <tr>\n",
       "      <th>2</th>\n",
       "      <td>F</td>\n",
       "      <td>20</td>\n",
       "      <td>29.3</td>\n",
       "      <td>N</td>\n",
       "      <td>217</td>\n",
       "      <td>54</td>\n",
       "      <td>4.0</td>\n",
       "      <td>75</td>\n",
       "    </tr>\n",
       "    <tr>\n",
       "      <th>3</th>\n",
       "      <td>F</td>\n",
       "      <td>20</td>\n",
       "      <td>19.6</td>\n",
       "      <td>N</td>\n",
       "      <td>226</td>\n",
       "      <td>70</td>\n",
       "      <td>3.2</td>\n",
       "      <td>97</td>\n",
       "    </tr>\n",
       "    <tr>\n",
       "      <th>4</th>\n",
       "      <td>F</td>\n",
       "      <td>20</td>\n",
       "      <td>20.2</td>\n",
       "      <td>N</td>\n",
       "      <td>164</td>\n",
       "      <td>67</td>\n",
       "      <td>2.4</td>\n",
       "      <td>91</td>\n",
       "    </tr>\n",
       "  </tbody>\n",
       "</table>\n",
       "</div>"
      ],
      "text/plain": [
       "  Gender  Age   BMI Diabetes  Cholesterol  HDLChol  Chol/HDL ratio  Glucose\n",
       "0      F   19  22.5        N          193       49             3.9       77\n",
       "1      F   19  26.4        N          146       41             3.6       79\n",
       "2      F   20  29.3        N          217       54             4.0       75\n",
       "3      F   20  19.6        N          226       70             3.2       97\n",
       "4      F   20  20.2        N          164       67             2.4       91"
      ]
     },
     "execution_count": 23,
     "metadata": {},
     "output_type": "execute_result"
    }
   ],
   "source": [
    "data.head()"
   ]
  },
  {
   "cell_type": "markdown",
   "metadata": {},
   "source": [
    "# Checking the Null Values:"
   ]
  },
  {
   "cell_type": "code",
   "execution_count": 24,
   "metadata": {},
   "outputs": [
    {
     "name": "stdout",
     "output_type": "stream",
     "text": [
      "{'ID': 0, 'No_Pation': 0, 'Gender': 0, 'AGE': 0, 'Urea': 0, 'Cr': 0, 'HbA1c': 0, 'Chol': 0, 'TG': 0, 'HDL': 0, 'LDL': 0, 'VLDL': 0, 'BMI': 0, 'CLASS': 0}\n"
     ]
    }
   ],
   "source": [
    "chcekNullValues = {col:df1.filter(df1[col].isNull()).count() for col in df1.columns}\n",
    "print(chcekNullValues)"
   ]
  },
  {
   "cell_type": "code",
   "execution_count": 25,
   "metadata": {},
   "outputs": [
    {
     "name": "stdout",
     "output_type": "stream",
     "text": [
      "{'Patient number': 0, 'Cholesterol': 0, 'Glucose': 0, 'HDL Chol': 0, 'Chol/HDL ratio': 0, 'Age': 0, 'Gender': 0, 'Height': 0, 'Weight': 0, 'BMI': 0, 'Systolic BP': 0, 'Diastolic BP': 0, 'waist': 0, 'hip': 0, 'Waist/hip ratio': 0, 'Diabetes': 0, '_c16': 389, '_c17': 389}\n"
     ]
    }
   ],
   "source": [
    "chcekNullValues = {col:df2.filter(df2[col].isNull()).count() for col in df2.columns}\n",
    "print(chcekNullValues)"
   ]
  },
  {
   "cell_type": "code",
   "execution_count": 26,
   "metadata": {},
   "outputs": [
    {
     "name": "stdout",
     "output_type": "stream",
     "text": [
      "          Gender  Age  BMI  Cholesterol  HDLChol  Chol/HDL ratio  Glucose\n",
      "Diabetes                                                                 \n",
      "N            433  433  433          433      433             433      433\n",
      "Y            904  904  904          904      904             904      904\n"
     ]
    }
   ],
   "source": [
    "data['Diabetes'].unique()\n",
    "dia = data.groupby('Diabetes').count()\n",
    "print(dia)"
   ]
  },
  {
   "cell_type": "markdown",
   "metadata": {},
   "source": [
    "# Model Development and Prediction"
   ]
  },
  {
   "cell_type": "code",
   "execution_count": 27,
   "id": "0be623f6",
   "metadata": {},
   "outputs": [],
   "source": [
    "#Importing dataset\n",
    "import numpy as np\n",
    "import matplotlib.pyplot as plt  \n",
    "import pandas as pd\n",
    "import seaborn as sns\n",
    "\n",
    "from warnings import filterwarnings\n",
    "filterwarnings(action='ignore')\n",
    "sns.set()\n",
    "\n",
    "from mlxtend.plotting import plot_decision_regions\n",
    "import missingno as msno\n",
    "from pandas.plotting import scatter_matrix\n",
    "from sklearn.neighbors import KNeighborsClassifier\n",
    "from sklearn import metrics\n",
    "from sklearn.linear_model import LogisticRegression\n",
    "from sklearn.model_selection import StratifiedKFold, cross_val_score\n",
    "from sklearn.model_selection import KFold, GridSearchCV\n",
    "from sklearn.linear_model import LogisticRegression\n",
    "from sklearn.model_selection import train_test_split\n",
    "from sklearn.metrics import roc_auc_score\n",
    "from sklearn.ensemble import RandomForestClassifier\n",
    "from sklearn.preprocessing import StandardScaler\n",
    "from sklearn.preprocessing import LabelEncoder\n",
    "from sklearn import preprocessing\n",
    "from sklearn.metrics import r2_score\n",
    "from sklearn.tree import DecisionTreeClassifier\n",
    "from sklearn.tree import plot_tree\n",
    "from sklearn.metrics import classification_report, confusion_matrix\n",
    "from xgboost import XGBClassifier\n",
    "from sklearn.svm import SVC\n",
    "from sklearn import svm\n",
    "import warnings\n",
    "warnings.filterwarnings('ignore')\n",
    "\n",
    "%matplotlib inline"
   ]
  },
  {
   "cell_type": "markdown",
   "metadata": {},
   "source": [
    "## Label Encoding"
   ]
  },
  {
   "cell_type": "code",
   "execution_count": 28,
   "id": "1da1d7f0",
   "metadata": {},
   "outputs": [
    {
     "data": {
      "text/plain": [
       "array([0, 1])"
      ]
     },
     "execution_count": 28,
     "metadata": {},
     "output_type": "execute_result"
    }
   ],
   "source": [
    "label_encoder = preprocessing.LabelEncoder()\n",
    "data['Gender']= label_encoder.fit_transform(data['Gender'])\n",
    "data['Gender'].unique()"
   ]
  },
  {
   "cell_type": "code",
   "execution_count": 29,
   "id": "a3470037",
   "metadata": {},
   "outputs": [
    {
     "name": "stdout",
     "output_type": "stream",
     "text": [
      "          Gender  Age  BMI  Cholesterol  HDLChol  Chol/HDL ratio  Glucose\n",
      "Diabetes                                                                 \n",
      "0            433  433  433          433      433             433      433\n",
      "1            904  904  904          904      904             904      904\n"
     ]
    }
   ],
   "source": [
    "label_encoder = preprocessing.LabelEncoder()\n",
    "data['Diabetes']= label_encoder.fit_transform(data['Diabetes'])\n",
    "data['Diabetes'].unique()\n",
    "\n",
    "dia_distinct = data.groupby('Diabetes').count()\n",
    "print(dia_distinct)"
   ]
  },
  {
   "cell_type": "code",
   "execution_count": 30,
   "metadata": {},
   "outputs": [
    {
     "data": {
      "text/html": [
       "<div>\n",
       "<style scoped>\n",
       "    .dataframe tbody tr th:only-of-type {\n",
       "        vertical-align: middle;\n",
       "    }\n",
       "\n",
       "    .dataframe tbody tr th {\n",
       "        vertical-align: top;\n",
       "    }\n",
       "\n",
       "    .dataframe thead th {\n",
       "        text-align: right;\n",
       "    }\n",
       "</style>\n",
       "<table border=\"1\" class=\"dataframe\">\n",
       "  <thead>\n",
       "    <tr style=\"text-align: right;\">\n",
       "      <th></th>\n",
       "      <th>Gender</th>\n",
       "      <th>Age</th>\n",
       "      <th>BMI</th>\n",
       "      <th>Diabetes</th>\n",
       "      <th>Cholesterol</th>\n",
       "      <th>HDLChol</th>\n",
       "      <th>Chol/HDL ratio</th>\n",
       "      <th>Glucose</th>\n",
       "    </tr>\n",
       "  </thead>\n",
       "  <tbody>\n",
       "    <tr>\n",
       "      <th>0</th>\n",
       "      <td>0</td>\n",
       "      <td>19</td>\n",
       "      <td>22.5</td>\n",
       "      <td>0</td>\n",
       "      <td>193</td>\n",
       "      <td>49</td>\n",
       "      <td>3.9</td>\n",
       "      <td>77</td>\n",
       "    </tr>\n",
       "    <tr>\n",
       "      <th>1</th>\n",
       "      <td>0</td>\n",
       "      <td>19</td>\n",
       "      <td>26.4</td>\n",
       "      <td>0</td>\n",
       "      <td>146</td>\n",
       "      <td>41</td>\n",
       "      <td>3.6</td>\n",
       "      <td>79</td>\n",
       "    </tr>\n",
       "    <tr>\n",
       "      <th>2</th>\n",
       "      <td>0</td>\n",
       "      <td>20</td>\n",
       "      <td>29.3</td>\n",
       "      <td>0</td>\n",
       "      <td>217</td>\n",
       "      <td>54</td>\n",
       "      <td>4.0</td>\n",
       "      <td>75</td>\n",
       "    </tr>\n",
       "    <tr>\n",
       "      <th>3</th>\n",
       "      <td>0</td>\n",
       "      <td>20</td>\n",
       "      <td>19.6</td>\n",
       "      <td>0</td>\n",
       "      <td>226</td>\n",
       "      <td>70</td>\n",
       "      <td>3.2</td>\n",
       "      <td>97</td>\n",
       "    </tr>\n",
       "    <tr>\n",
       "      <th>4</th>\n",
       "      <td>0</td>\n",
       "      <td>20</td>\n",
       "      <td>20.2</td>\n",
       "      <td>0</td>\n",
       "      <td>164</td>\n",
       "      <td>67</td>\n",
       "      <td>2.4</td>\n",
       "      <td>91</td>\n",
       "    </tr>\n",
       "  </tbody>\n",
       "</table>\n",
       "</div>"
      ],
      "text/plain": [
       "   Gender  Age   BMI  Diabetes  Cholesterol  HDLChol  Chol/HDL ratio  Glucose\n",
       "0       0   19  22.5         0          193       49             3.9       77\n",
       "1       0   19  26.4         0          146       41             3.6       79\n",
       "2       0   20  29.3         0          217       54             4.0       75\n",
       "3       0   20  19.6         0          226       70             3.2       97\n",
       "4       0   20  20.2         0          164       67             2.4       91"
      ]
     },
     "execution_count": 30,
     "metadata": {},
     "output_type": "execute_result"
    }
   ],
   "source": [
    "data.head()"
   ]
  },
  {
   "cell_type": "markdown",
   "metadata": {},
   "source": [
    "## Selecting features"
   ]
  },
  {
   "cell_type": "code",
   "execution_count": 31,
   "metadata": {},
   "outputs": [],
   "source": [
    "X = data.drop('Diabetes',axis=1)\n",
    "y = data['Diabetes']"
   ]
  },
  {
   "cell_type": "markdown",
   "metadata": {},
   "source": [
    "## Standardization"
   ]
  },
  {
   "cell_type": "code",
   "execution_count": 32,
   "metadata": {},
   "outputs": [
    {
     "data": {
      "text/plain": [
       "array([[-1.03424342, -2.77799959, -1.29653982, ...,  1.00011767,\n",
       "        -0.36306815,  0.39033963],\n",
       "       [-1.03424342, -2.77799959, -0.58110162, ...,  0.57760173,\n",
       "        -0.52260653,  0.43269348],\n",
       "       [-1.03424342, -2.6937261 , -0.04910911, ...,  1.26419013,\n",
       "        -0.30988869,  0.34798579],\n",
       "       ...,\n",
       "       [ 0.96689037, -1.85099122, -0.39765593, ..., -0.42587363,\n",
       "        -0.62896545, -0.41438344],\n",
       "       [ 0.96689037, -1.17680331,  2.00548265, ..., -0.05617218,\n",
       "        -0.68214491, -0.11790652],\n",
       "       [ 0.96689037,  0.1715725 ,  0.62963995, ..., -0.53150262,\n",
       "        -0.62896545, -0.49909113]])"
      ]
     },
     "execution_count": 32,
     "metadata": {},
     "output_type": "execute_result"
    }
   ],
   "source": [
    "scaler = StandardScaler()\n",
    "scaled_X = scaler.fit_transform(X)\n",
    "scaled_X"
   ]
  },
  {
   "cell_type": "markdown",
   "metadata": {},
   "source": [
    "## Spliting Data"
   ]
  },
  {
   "cell_type": "code",
   "execution_count": 33,
   "metadata": {},
   "outputs": [],
   "source": [
    "X_train, X_test, y_train, y_test = train_test_split(X,y,test_size=0.3,random_state=2022,stratify=y)"
   ]
  },
  {
   "cell_type": "markdown",
   "metadata": {},
   "source": [
    "# Logistic Regression"
   ]
  },
  {
   "cell_type": "code",
   "execution_count": 34,
   "metadata": {},
   "outputs": [
    {
     "name": "stdout",
     "output_type": "stream",
     "text": [
      "The Model Intercept :  [-8.53391995]\n",
      "The Model Coefficient :  [[ 0.01128451  0.08099286  0.18680962 -0.05285602  0.02889522  0.98594317\n",
      "   0.0191352 ]]\n",
      "The ROC AUC Score :  0.9309954751131222\n"
     ]
    }
   ],
   "source": [
    "model = LogisticRegression()\n",
    "model.fit(X_train,y_train)\n",
    "print(\"The Model Intercept : \",model.intercept_)\n",
    "print(\"The Model Coefficient : \",model.coef_)\n",
    "y_pred_prob = model.predict_proba(X_test)[:,1]\n",
    "print(\"The ROC AUC Score : \",roc_auc_score(y_test, y_pred_prob))"
   ]
  },
  {
   "cell_type": "code",
   "execution_count": 35,
   "metadata": {},
   "outputs": [
    {
     "name": "stdout",
     "output_type": "stream",
     "text": [
      "The Mean :  0.9372656421657117\n"
     ]
    }
   ],
   "source": [
    "model = LogisticRegression()\n",
    "kfold = StratifiedKFold(n_splits=5,random_state=2022,shuffle=True)\n",
    "results = cross_val_score(model, X,y,cv=kfold,scoring='roc_auc')\n",
    "print(\"The Mean : \",results.mean())"
   ]
  },
  {
   "cell_type": "markdown",
   "metadata": {},
   "source": [
    "# K Nearest Neighbour "
   ]
  },
  {
   "cell_type": "code",
   "execution_count": 36,
   "metadata": {},
   "outputs": [
    {
     "name": "stdout",
     "output_type": "stream",
     "text": [
      "Best n_neighbors =  11\n",
      "Best Score =  0.9658795248868778\n"
     ]
    }
   ],
   "source": [
    "params = np.arange(1,15,2)\n",
    "score = []\n",
    "for i in params:\n",
    "    knn = KNeighborsClassifier(n_neighbors=i)\n",
    "    knn.fit(X_train,y_train)\n",
    "    y_pred_prob = knn.predict_proba(X_test)[:,1]\n",
    "    score.append(roc_auc_score(y_test,y_pred_prob))\n",
    "    \n",
    "i_max = np.argmax(score)    \n",
    "print(\"Best n_neighbors = \", params[i_max])\n",
    "print(\"Best Score = \",score[i_max])"
   ]
  },
  {
   "cell_type": "markdown",
   "metadata": {},
   "source": [
    "# DecisionTree Classifier"
   ]
  },
  {
   "cell_type": "code",
   "execution_count": 37,
   "metadata": {},
   "outputs": [
    {
     "ename": "NameError",
     "evalue": "name 'eClassifier' is not defined",
     "output_type": "error",
     "traceback": [
      "\u001b[1;31m---------------------------------------------------------------------------\u001b[0m",
      "\u001b[1;31mNameError\u001b[0m                                 Traceback (most recent call last)",
      "Input \u001b[1;32mIn [37]\u001b[0m, in \u001b[0;36m<cell line: 1>\u001b[1;34m()\u001b[0m\n\u001b[1;32m----> 1\u001b[0m DecisionTredtree \u001b[38;5;241m=\u001b[39m \u001b[43meClassifier\u001b[49m(random_state\u001b[38;5;241m=\u001b[39m\u001b[38;5;241m2022\u001b[39m,max_depth\u001b[38;5;241m=\u001b[39m\u001b[38;5;241m3\u001b[39m)\n\u001b[0;32m      2\u001b[0m dtree\u001b[38;5;241m.\u001b[39mfit(X_train,y_train)\n\u001b[0;32m      4\u001b[0m \u001b[38;5;66;03m# Plotting a tree\u001b[39;00m\n",
      "\u001b[1;31mNameError\u001b[0m: name 'eClassifier' is not defined"
     ]
    }
   ],
   "source": [
    "DecisionTredtree = eClassifier(random_state=2022,max_depth=3)\n",
    "dtree.fit(X_train,y_train)\n",
    "\n",
    "# Plotting a tree\n",
    "plt.figure(figsize=(35,25))\n",
    "plot_tree(dtree,feature_names=X_train.columns,\n",
    "               class_names=['P','N'],\n",
    "               filled=True,fontsize=10) \n",
    "\n",
    "y_pred = dtree.predict(X_test)\n",
    "y_pred_prob = dtree.predict_proba(X_test)[:,1]\n",
    "print(\"The ROC AUC Score : \",roc_auc_score(y_test,y_pred_prob))"
   ]
  },
  {
   "cell_type": "markdown",
   "metadata": {},
   "source": [
    "### ROC Curve"
   ]
  },
  {
   "cell_type": "code",
   "execution_count": null,
   "metadata": {},
   "outputs": [],
   "source": [
    "y_pred_prob = dtree.predict_proba(X_test)[::,1]\n",
    "fpr, tpr, _ = metrics.roc_curve(y_test,  y_pred_prob)\n",
    "auc = roc_auc_score(y_test, y_pred_prob)\n",
    "plt.plot(fpr,tpr,label=\"Data, auc=\"+str(auc))\n",
    "plt.legend(loc=4)\n",
    "plt.show()"
   ]
  },
  {
   "cell_type": "code",
   "execution_count": null,
   "metadata": {},
   "outputs": [],
   "source": [
    "#with grid search Cv\n",
    "\n",
    "from sklearn.model_selection import StratifiedKFold, GridSearchCV\n",
    "params = {'max_depth':[None,7,3],\n",
    "          'min_samples_split':[2,5,10],\n",
    "          'min_samples_leaf':[1,5,10]}\n",
    "\n",
    "dtree = DecisionTreeClassifier(random_state=2022)\n",
    "kfold = StratifiedKFold(n_splits=5,random_state=2022,shuffle=True)\n",
    "gcv = GridSearchCV(dtree,param_grid=params,scoring='roc_auc',cv=kfold)\n",
    "gcv.fit(X,y)\n",
    "\n",
    "pd_gcv = pd.DataFrame(gcv.cv_results_)\n",
    "print(\"The Best parameters : \",gcv.best_params_)\n",
    "print(\"The Best score : \",gcv.best_score_)"
   ]
  },
  {
   "cell_type": "markdown",
   "metadata": {},
   "source": [
    "## Visualizing Correlation using Heatmap"
   ]
  },
  {
   "cell_type": "code",
   "execution_count": null,
   "metadata": {},
   "outputs": [],
   "source": [
    "plt.figure(figsize=(12,10))\n",
    "# seaborn has an easy method to showcase heatmap\n",
    "p = sns.heatmap(data.corr(), annot=True,cmap ='RdYlGn')"
   ]
  },
  {
   "cell_type": "markdown",
   "metadata": {},
   "source": [
    "### Confusion Metrics"
   ]
  },
  {
   "cell_type": "code",
   "execution_count": null,
   "metadata": {},
   "outputs": [],
   "source": [
    "cnf_metric=confusion_matrix(y_test, y_pred)\n",
    "print(\"The Confusion Metrix is as follows : \")\n",
    "print(cnf_metric)"
   ]
  },
  {
   "cell_type": "markdown",
   "metadata": {},
   "source": [
    "### Classification Report"
   ]
  },
  {
   "cell_type": "code",
   "execution_count": null,
   "metadata": {},
   "outputs": [],
   "source": [
    "print(\"The Classification Report is as follows : \")\n",
    "print(metrics.classification_report(y_test,y_pred))"
   ]
  },
  {
   "cell_type": "markdown",
   "metadata": {},
   "source": [
    "# SVC"
   ]
  },
  {
   "cell_type": "code",
   "execution_count": null,
   "metadata": {},
   "outputs": [],
   "source": [
    "svm = SVC(kernel=\"linear\",probability=True)\n",
    "svm.fit(X_train,y_train)\n",
    "y_pred_prob = svm.predict_proba(X_test)[:,1]\n",
    "print(\"The ROC AUC Score : \",roc_auc_score(y_test, y_pred_prob))"
   ]
  },
  {
   "cell_type": "markdown",
   "metadata": {},
   "source": [
    "# Gradient Boosting"
   ]
  },
  {
   "cell_type": "code",
   "execution_count": null,
   "metadata": {},
   "outputs": [],
   "source": [
    "from sklearn.ensemble import GradientBoostingClassifier\n",
    "\n",
    "clf = GradientBoostingClassifier(random_state=2022)\n",
    "params = {'learning_rate':[0.001, 0.01, 0.2, 0.3, 0.5, 0.6],\n",
    "          'n_estimators':[50,100,150],\n",
    "          'max_depth':[2,3,4,5]}\n",
    "kfold = StratifiedKFold(n_splits=5,shuffle=True,random_state=2022)\n",
    "gcv = GridSearchCV(clf,param_grid=params,cv=kfold, scoring='roc_auc')\n",
    "gcv.fit(X,y)\n",
    "\n",
    "pd_cv = pd.DataFrame(gcv.cv_results_)\n",
    "print(\"The Best Parameters : \",gcv.best_params_)\n",
    "print(\"The Best Score : \",gcv.best_score_)\n",
    "\n",
    "best_model = gcv.best_estimator_\n",
    "importances=best_model.feature_importances_\n",
    "######### Variable Importance Plot ################\n",
    "plt.bar(X.columns,importances)\n",
    "plt.title(\"Feature Importance Plot\")\n",
    "plt.xticks(rotation=90)\n",
    "plt.show()"
   ]
  },
  {
   "cell_type": "markdown",
   "metadata": {},
   "source": [
    "# XGBClassifier Algorithm"
   ]
  },
  {
   "cell_type": "code",
   "execution_count": null,
   "metadata": {},
   "outputs": [],
   "source": [
    "xg_clf = XGBClassifier(random_state=2022)\n",
    "params = {'learning_rate':[0.001, 0.01, 0.2, 0.3, 0.5, 0.6],\n",
    "          'n_estimators':[50,100,150],\n",
    "          'max_depth':[2,3,4,5]}\n",
    "kfold = StratifiedKFold(n_splits=5,shuffle=True,random_state=2022)\n",
    "gcv = GridSearchCV(xg_clf,param_grid=params,cv=kfold, scoring='roc_auc')\n",
    "gcv.fit(X,y)\n",
    "\n",
    "pd_cv = pd.DataFrame(gcv.cv_results_)\n",
    "print(\"The Best Parameters are : \",gcv.best_params_)\n",
    "print(\"The Best score is : \",gcv.best_score_)\n",
    "\n",
    "best_model = gcv.best_estimator_\n",
    "importances=best_model.feature_importances_\n",
    "######### Variable Importance Plot ################\n",
    "plt.bar(X.columns,importances)\n",
    "plt.title(\"Feature Importance Plot\")\n",
    "plt.xticks(rotation=90)\n",
    "plt.show()"
   ]
  },
  {
   "cell_type": "code",
   "execution_count": null,
   "metadata": {},
   "outputs": [],
   "source": [
    "xg = XGBClassifier(random_state=2022)\n",
    "xg.fit(X,y)\n",
    "\n",
    "newdata={0:[0,85,45.0,120,59,3.9,78]}\n",
    "d=pd.DataFrame(newdata)\n",
    "d=d.T\n",
    "\n",
    "\n",
    "res=xg.predict(d)\n",
    "if res==1:\n",
    "    print(\"Diabetec\")\n",
    "else:\n",
    "    print(\"Non Diabetec\")"
   ]
  },
  {
   "cell_type": "code",
   "execution_count": null,
   "metadata": {},
   "outputs": [],
   "source": [
    "rf =  RandomForestClassifier(random_state=2022)\n",
    "rf.fit(X,y)\n",
    "\n",
    "newdata={0:[0,85,45.0,120,59,3.9,78]}\n",
    "d=pd.DataFrame(newdata)\n",
    "d=d.T\n",
    "\n",
    "\n",
    "res=rf.predict(d)\n",
    "if res==1:\n",
    "    print(\"Diabetec\")\n",
    "else:\n",
    "    print(\"No Diabetes\")"
   ]
  },
  {
   "cell_type": "markdown",
   "metadata": {},
   "source": [
    "# Random Forest"
   ]
  },
  {
   "cell_type": "code",
   "execution_count": null,
   "metadata": {},
   "outputs": [],
   "source": [
    "clf = RandomForestClassifier(random_state=2022)\n",
    "clf.fit(X_train,y_train)\n",
    "y_pred_prob = clf.predict_proba(X_test)[:,1]\n",
    "print(\"The ROC AUC Score : \",roc_auc_score(y_test,y_pred_prob))"
   ]
  },
  {
   "cell_type": "code",
   "execution_count": null,
   "metadata": {},
   "outputs": [],
   "source": [
    "#################### Grid Search CV ##########################\n",
    "params = {'max_features':[2,3,4,5,6,7,8]}\n",
    "clf = RandomForestClassifier(random_state=2022)\n",
    "kfold = StratifiedKFold(n_splits=5, shuffle=True, random_state=2022)\n",
    "gcv = GridSearchCV(clf,param_grid=params,cv=kfold,scoring='roc_auc')\n",
    "gcv.fit(X,y)\n",
    "pd_cv = pd.DataFrame(gcv.cv_results_)\n",
    "print(\"The Best Parameters : \",gcv.best_params_)\n",
    "print(\"The Best Score : \",gcv.best_score_)\n",
    "\n",
    "best_model = gcv.best_estimator_\n",
    "importances=best_model.feature_importances_\n",
    "######### Variable Importance Plot ################\n",
    "plt.bar(X.columns,importances)\n",
    "plt.title(\"Feature Importance Plot\")\n",
    "plt.xticks(rotation=90)\n",
    "plt.show()"
   ]
  },
  {
   "cell_type": "markdown",
   "metadata": {},
   "source": [
    "# Testing the code"
   ]
  },
  {
   "cell_type": "code",
   "execution_count": null,
   "metadata": {},
   "outputs": [],
   "source": [
    "xg = XGBClassifier(random_state=2022)\n",
    "xg.fit(X,y)\n",
    "\n",
    "newdata={0:[0,85,45.0,120,59,3.9,78]}\n",
    "d=pd.DataFrame(newdata)\n",
    "d=d.T\n",
    "\n",
    "\n",
    "res=xg.predict(d)\n",
    "if res==1:\n",
    "    print(\"Diabetec\")\n",
    "else:\n",
    "    print(\"Non Diabetec\")"
   ]
  },
  {
   "cell_type": "markdown",
   "metadata": {},
   "source": [
    "# Flask Code"
   ]
  },
  {
   "cell_type": "code",
   "execution_count": null,
   "metadata": {},
   "outputs": [],
   "source": [
    "import pickle\n",
    "\n",
    "pickle.dump(xg,open(\"xgmodel.pkl\",\"wb\"))\n",
    "loaded_model= pickle.load(open(\"xgmodel.pkl\", \"rb\"))\n",
    "loaded_model.predict(X_test)\n",
    "loaded_model.score(X_test,y_test)"
   ]
  }
 ],
 "metadata": {
  "kernelspec": {
   "display_name": "Python 3 (ipykernel)",
   "language": "python",
   "name": "python3"
  },
  "language_info": {
   "codemirror_mode": {
    "name": "ipython",
    "version": 3
   },
   "file_extension": ".py",
   "mimetype": "text/x-python",
   "name": "python",
   "nbconvert_exporter": "python",
   "pygments_lexer": "ipython3",
   "version": "3.10.6"
  },
  "vscode": {
   "interpreter": {
    "hash": "76d7c06053c3456e5600312cec90888656fc0ed30c03d8425b9dac6e4fc8e014"
   }
  }
 },
 "nbformat": 4,
 "nbformat_minor": 2
}
